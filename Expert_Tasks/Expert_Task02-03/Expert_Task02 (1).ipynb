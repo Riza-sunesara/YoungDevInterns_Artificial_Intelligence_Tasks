{
  "nbformat": 4,
  "nbformat_minor": 0,
  "metadata": {
    "colab": {
      "provenance": []
    },
    "kernelspec": {
      "name": "python3",
      "display_name": "Python 3"
    },
    "language_info": {
      "name": "python"
    }
  },
  "cells": [
    {
      "cell_type": "code",
      "execution_count": 1,
      "metadata": {
        "colab": {
          "base_uri": "https://localhost:8080/",
          "height": 107
        },
        "id": "2KD0ArQcUT1N",
        "outputId": "5491f17e-1086-4e54-fb74-07f586c00384"
      },
      "outputs": [
        {
          "output_type": "display_data",
          "data": {
            "text/plain": [
              "<IPython.core.display.HTML object>"
            ],
            "text/html": [
              "\n",
              "     <input type=\"file\" id=\"files-732a268e-03f0-474f-a7fe-182698f40524\" name=\"files[]\" multiple disabled\n",
              "        style=\"border:none\" />\n",
              "     <output id=\"result-732a268e-03f0-474f-a7fe-182698f40524\">\n",
              "      Upload widget is only available when the cell has been executed in the\n",
              "      current browser session. Please rerun this cell to enable.\n",
              "      </output>\n",
              "      <script>// Copyright 2017 Google LLC\n",
              "//\n",
              "// Licensed under the Apache License, Version 2.0 (the \"License\");\n",
              "// you may not use this file except in compliance with the License.\n",
              "// You may obtain a copy of the License at\n",
              "//\n",
              "//      http://www.apache.org/licenses/LICENSE-2.0\n",
              "//\n",
              "// Unless required by applicable law or agreed to in writing, software\n",
              "// distributed under the License is distributed on an \"AS IS\" BASIS,\n",
              "// WITHOUT WARRANTIES OR CONDITIONS OF ANY KIND, either express or implied.\n",
              "// See the License for the specific language governing permissions and\n",
              "// limitations under the License.\n",
              "\n",
              "/**\n",
              " * @fileoverview Helpers for google.colab Python module.\n",
              " */\n",
              "(function(scope) {\n",
              "function span(text, styleAttributes = {}) {\n",
              "  const element = document.createElement('span');\n",
              "  element.textContent = text;\n",
              "  for (const key of Object.keys(styleAttributes)) {\n",
              "    element.style[key] = styleAttributes[key];\n",
              "  }\n",
              "  return element;\n",
              "}\n",
              "\n",
              "// Max number of bytes which will be uploaded at a time.\n",
              "const MAX_PAYLOAD_SIZE = 100 * 1024;\n",
              "\n",
              "function _uploadFiles(inputId, outputId) {\n",
              "  const steps = uploadFilesStep(inputId, outputId);\n",
              "  const outputElement = document.getElementById(outputId);\n",
              "  // Cache steps on the outputElement to make it available for the next call\n",
              "  // to uploadFilesContinue from Python.\n",
              "  outputElement.steps = steps;\n",
              "\n",
              "  return _uploadFilesContinue(outputId);\n",
              "}\n",
              "\n",
              "// This is roughly an async generator (not supported in the browser yet),\n",
              "// where there are multiple asynchronous steps and the Python side is going\n",
              "// to poll for completion of each step.\n",
              "// This uses a Promise to block the python side on completion of each step,\n",
              "// then passes the result of the previous step as the input to the next step.\n",
              "function _uploadFilesContinue(outputId) {\n",
              "  const outputElement = document.getElementById(outputId);\n",
              "  const steps = outputElement.steps;\n",
              "\n",
              "  const next = steps.next(outputElement.lastPromiseValue);\n",
              "  return Promise.resolve(next.value.promise).then((value) => {\n",
              "    // Cache the last promise value to make it available to the next\n",
              "    // step of the generator.\n",
              "    outputElement.lastPromiseValue = value;\n",
              "    return next.value.response;\n",
              "  });\n",
              "}\n",
              "\n",
              "/**\n",
              " * Generator function which is called between each async step of the upload\n",
              " * process.\n",
              " * @param {string} inputId Element ID of the input file picker element.\n",
              " * @param {string} outputId Element ID of the output display.\n",
              " * @return {!Iterable<!Object>} Iterable of next steps.\n",
              " */\n",
              "function* uploadFilesStep(inputId, outputId) {\n",
              "  const inputElement = document.getElementById(inputId);\n",
              "  inputElement.disabled = false;\n",
              "\n",
              "  const outputElement = document.getElementById(outputId);\n",
              "  outputElement.innerHTML = '';\n",
              "\n",
              "  const pickedPromise = new Promise((resolve) => {\n",
              "    inputElement.addEventListener('change', (e) => {\n",
              "      resolve(e.target.files);\n",
              "    });\n",
              "  });\n",
              "\n",
              "  const cancel = document.createElement('button');\n",
              "  inputElement.parentElement.appendChild(cancel);\n",
              "  cancel.textContent = 'Cancel upload';\n",
              "  const cancelPromise = new Promise((resolve) => {\n",
              "    cancel.onclick = () => {\n",
              "      resolve(null);\n",
              "    };\n",
              "  });\n",
              "\n",
              "  // Wait for the user to pick the files.\n",
              "  const files = yield {\n",
              "    promise: Promise.race([pickedPromise, cancelPromise]),\n",
              "    response: {\n",
              "      action: 'starting',\n",
              "    }\n",
              "  };\n",
              "\n",
              "  cancel.remove();\n",
              "\n",
              "  // Disable the input element since further picks are not allowed.\n",
              "  inputElement.disabled = true;\n",
              "\n",
              "  if (!files) {\n",
              "    return {\n",
              "      response: {\n",
              "        action: 'complete',\n",
              "      }\n",
              "    };\n",
              "  }\n",
              "\n",
              "  for (const file of files) {\n",
              "    const li = document.createElement('li');\n",
              "    li.append(span(file.name, {fontWeight: 'bold'}));\n",
              "    li.append(span(\n",
              "        `(${file.type || 'n/a'}) - ${file.size} bytes, ` +\n",
              "        `last modified: ${\n",
              "            file.lastModifiedDate ? file.lastModifiedDate.toLocaleDateString() :\n",
              "                                    'n/a'} - `));\n",
              "    const percent = span('0% done');\n",
              "    li.appendChild(percent);\n",
              "\n",
              "    outputElement.appendChild(li);\n",
              "\n",
              "    const fileDataPromise = new Promise((resolve) => {\n",
              "      const reader = new FileReader();\n",
              "      reader.onload = (e) => {\n",
              "        resolve(e.target.result);\n",
              "      };\n",
              "      reader.readAsArrayBuffer(file);\n",
              "    });\n",
              "    // Wait for the data to be ready.\n",
              "    let fileData = yield {\n",
              "      promise: fileDataPromise,\n",
              "      response: {\n",
              "        action: 'continue',\n",
              "      }\n",
              "    };\n",
              "\n",
              "    // Use a chunked sending to avoid message size limits. See b/62115660.\n",
              "    let position = 0;\n",
              "    do {\n",
              "      const length = Math.min(fileData.byteLength - position, MAX_PAYLOAD_SIZE);\n",
              "      const chunk = new Uint8Array(fileData, position, length);\n",
              "      position += length;\n",
              "\n",
              "      const base64 = btoa(String.fromCharCode.apply(null, chunk));\n",
              "      yield {\n",
              "        response: {\n",
              "          action: 'append',\n",
              "          file: file.name,\n",
              "          data: base64,\n",
              "        },\n",
              "      };\n",
              "\n",
              "      let percentDone = fileData.byteLength === 0 ?\n",
              "          100 :\n",
              "          Math.round((position / fileData.byteLength) * 100);\n",
              "      percent.textContent = `${percentDone}% done`;\n",
              "\n",
              "    } while (position < fileData.byteLength);\n",
              "  }\n",
              "\n",
              "  // All done.\n",
              "  yield {\n",
              "    response: {\n",
              "      action: 'complete',\n",
              "    }\n",
              "  };\n",
              "}\n",
              "\n",
              "scope.google = scope.google || {};\n",
              "scope.google.colab = scope.google.colab || {};\n",
              "scope.google.colab._files = {\n",
              "  _uploadFiles,\n",
              "  _uploadFilesContinue,\n",
              "};\n",
              "})(self);\n",
              "</script> "
            ]
          },
          "metadata": {}
        },
        {
          "output_type": "stream",
          "name": "stdout",
          "text": [
            "Saving kaggle.json to kaggle.json\n",
            "Dataset URL: https://www.kaggle.com/datasets/paramaggarwal/fashion-product-images-small\n",
            "License(s): MIT\n"
          ]
        }
      ],
      "source": [
        "from google.colab import files\n",
        "files.upload()  # Upload kaggle.json\n",
        "\n",
        "!mkdir -p ~/.kaggle\n",
        "!mv kaggle.json ~/.kaggle/\n",
        "!chmod 600 ~/.kaggle/kaggle.json\n",
        "\n",
        "# Download dataset from Kaggle\n",
        "!kaggle datasets download -d paramaggarwal/fashion-product-images-small\n",
        "!unzip -q fashion-product-images-small.zip -d /content/fashion_data\n"
      ]
    },
    {
      "cell_type": "code",
      "source": [
        "import pandas as pd\n",
        "import os\n",
        "import shutil\n",
        "from PIL import Image\n",
        "from sklearn.model_selection import train_test_split\n",
        "\n",
        "# Paths\n",
        "styles_path = \"/content/fashion_data/styles.csv\"\n",
        "images_dir = \"/content/fashion_data/images\"\n",
        "filtered_dir = \"/content/fashion_data/filtered\"\n",
        "\n",
        "# Read and clean metadata\n",
        "df = pd.read_csv(styles_path, on_bad_lines='skip')\n",
        "df = df[['id', 'articleType']]\n",
        "df.dropna(inplace=True)\n",
        "\n",
        "# Filter for top 10 most frequent classes with enough images\n",
        "class_counts = df['articleType'].value_counts()\n",
        "top_classes = class_counts[class_counts >= 60].nlargest(10).index.tolist()  # 30 train + 30 val\n",
        "df = df[df['articleType'].isin(top_classes)]\n",
        "\n",
        "# Split and copy to class folders\n",
        "if os.path.exists(filtered_dir):\n",
        "    shutil.rmtree(filtered_dir)\n",
        "os.makedirs(filtered_dir)\n",
        "\n",
        "for class_name in top_classes:\n",
        "    class_df = df[df['articleType'] == class_name]\n",
        "    train_ids, val_ids = train_test_split(class_df['id'], test_size=0.4, random_state=42)  # 60-40 split\n",
        "\n",
        "    for split, ids in [('train', train_ids), ('val', val_ids)]:\n",
        "        split_dir = os.path.join(filtered_dir, split, class_name)\n",
        "        os.makedirs(split_dir, exist_ok=True)\n",
        "        for img_id in ids:\n",
        "            file_path = os.path.join(images_dir, f\"{img_id}.jpg\")\n",
        "            if os.path.exists(file_path):\n",
        "                try:\n",
        "                    # Verify image opens\n",
        "                    with Image.open(file_path) as img:\n",
        "                        img.verify()\n",
        "                    shutil.copy(file_path, split_dir)\n",
        "                except:\n",
        "                    continue  # Skip corrupted images\n"
      ],
      "metadata": {
        "id": "ow4xnEOSUWIh"
      },
      "execution_count": 2,
      "outputs": []
    },
    {
      "cell_type": "code",
      "source": [
        "from tensorflow.keras.preprocessing.image import ImageDataGenerator\n",
        "\n",
        "img_size = 128\n",
        "batch_size = 32\n",
        "\n",
        "datagen = ImageDataGenerator(rescale=1./255)\n",
        "\n",
        "train_gen = datagen.flow_from_directory(\n",
        "    directory=os.path.join(filtered_dir, 'train'),\n",
        "    target_size=(img_size, img_size),\n",
        "    batch_size=batch_size,\n",
        "    class_mode='categorical',\n",
        "    shuffle=True\n",
        ")\n",
        "\n",
        "val_gen = datagen.flow_from_directory(\n",
        "    directory=os.path.join(filtered_dir, 'val'),\n",
        "    target_size=(img_size, img_size),\n",
        "    batch_size=batch_size,\n",
        "    class_mode='categorical',\n",
        "    shuffle=False\n",
        ")\n",
        "\n",
        "class_labels = list(train_gen.class_indices.keys())\n"
      ],
      "metadata": {
        "colab": {
          "base_uri": "https://localhost:8080/"
        },
        "id": "E5vZfmouUYB1",
        "outputId": "677c35bf-eabc-4d36-9659-0895fdeff113"
      },
      "execution_count": 3,
      "outputs": [
        {
          "output_type": "stream",
          "name": "stdout",
          "text": [
            "Found 15274 images belonging to 10 classes.\n",
            "Found 10191 images belonging to 10 classes.\n"
          ]
        }
      ]
    },
    {
      "cell_type": "code",
      "source": [
        "from tensorflow.keras.models import Sequential\n",
        "from tensorflow.keras.layers import Conv2D, MaxPooling2D, Dropout, BatchNormalization, Flatten, Dense\n",
        "from tensorflow.keras.callbacks import EarlyStopping\n",
        "\n",
        "model = Sequential([\n",
        "    Conv2D(32, (3, 3), activation='relu', input_shape=(img_size, img_size, 3)),\n",
        "    BatchNormalization(),\n",
        "    MaxPooling2D(2, 2),\n",
        "    Dropout(0.25),\n",
        "\n",
        "    Conv2D(64, (3, 3), activation='relu'),\n",
        "    BatchNormalization(),\n",
        "    MaxPooling2D(2, 2),\n",
        "    Dropout(0.25),\n",
        "\n",
        "    Conv2D(128, (3, 3), activation='relu'),\n",
        "    BatchNormalization(),\n",
        "    MaxPooling2D(2, 2),\n",
        "    Dropout(0.4),\n",
        "\n",
        "    Flatten(),\n",
        "    Dense(128, activation='relu'),\n",
        "    Dropout(0.3),\n",
        "    Dense(len(class_labels), activation='softmax')\n",
        "])\n",
        "\n",
        "model.compile(optimizer='adam', loss='categorical_crossentropy', metrics=['accuracy'])\n",
        "\n",
        "history = model.fit(\n",
        "    train_gen,\n",
        "    validation_data=val_gen,\n",
        "    epochs=10,\n",
        "    callbacks=[EarlyStopping(patience=3, restore_best_weights=True)]\n",
        ")\n"
      ],
      "metadata": {
        "colab": {
          "base_uri": "https://localhost:8080/"
        },
        "id": "gR5_NvJBUaCm",
        "outputId": "f9e8317e-2741-4691-e769-aff092f6cb47"
      },
      "execution_count": 4,
      "outputs": [
        {
          "output_type": "stream",
          "name": "stderr",
          "text": [
            "/usr/local/lib/python3.11/dist-packages/keras/src/layers/convolutional/base_conv.py:107: UserWarning: Do not pass an `input_shape`/`input_dim` argument to a layer. When using Sequential models, prefer using an `Input(shape)` object as the first layer in the model instead.\n",
            "  super().__init__(activity_regularizer=activity_regularizer, **kwargs)\n"
          ]
        },
        {
          "output_type": "stream",
          "name": "stdout",
          "text": [
            "Epoch 1/10\n"
          ]
        },
        {
          "output_type": "stream",
          "name": "stderr",
          "text": [
            "/usr/local/lib/python3.11/dist-packages/keras/src/trainers/data_adapters/py_dataset_adapter.py:121: UserWarning: Your `PyDataset` class should call `super().__init__(**kwargs)` in its constructor. `**kwargs` can include `workers`, `use_multiprocessing`, `max_queue_size`. Do not pass these arguments to `fit()`, as they will be ignored.\n",
            "  self._warn_if_super_not_called()\n"
          ]
        },
        {
          "output_type": "stream",
          "name": "stdout",
          "text": [
            "\u001b[1m478/478\u001b[0m \u001b[32m━━━━━━━━━━━━━━━━━━━━\u001b[0m\u001b[37m\u001b[0m \u001b[1m1059s\u001b[0m 2s/step - accuracy: 0.5997 - loss: 1.9142 - val_accuracy: 0.2686 - val_loss: 10.6551\n",
            "Epoch 2/10\n",
            "\u001b[1m478/478\u001b[0m \u001b[32m━━━━━━━━━━━━━━━━━━━━\u001b[0m\u001b[37m\u001b[0m \u001b[1m1076s\u001b[0m 2s/step - accuracy: 0.7851 - loss: 0.5578 - val_accuracy: 0.7777 - val_loss: 0.6635\n",
            "Epoch 3/10\n",
            "\u001b[1m478/478\u001b[0m \u001b[32m━━━━━━━━━━━━━━━━━━━━\u001b[0m\u001b[37m\u001b[0m \u001b[1m1061s\u001b[0m 2s/step - accuracy: 0.8271 - loss: 0.4478 - val_accuracy: 0.7933 - val_loss: 0.6934\n",
            "Epoch 4/10\n",
            "\u001b[1m478/478\u001b[0m \u001b[32m━━━━━━━━━━━━━━━━━━━━\u001b[0m\u001b[37m\u001b[0m \u001b[1m1060s\u001b[0m 2s/step - accuracy: 0.8451 - loss: 0.4084 - val_accuracy: 0.8694 - val_loss: 0.3886\n",
            "Epoch 5/10\n",
            "\u001b[1m478/478\u001b[0m \u001b[32m━━━━━━━━━━━━━━━━━━━━\u001b[0m\u001b[37m\u001b[0m \u001b[1m1100s\u001b[0m 2s/step - accuracy: 0.8570 - loss: 0.3678 - val_accuracy: 0.8295 - val_loss: 0.4458\n",
            "Epoch 6/10\n",
            "\u001b[1m478/478\u001b[0m \u001b[32m━━━━━━━━━━━━━━━━━━━━\u001b[0m\u001b[37m\u001b[0m \u001b[1m1058s\u001b[0m 2s/step - accuracy: 0.8745 - loss: 0.3289 - val_accuracy: 0.5192 - val_loss: 3.2148\n",
            "Epoch 7/10\n",
            "\u001b[1m478/478\u001b[0m \u001b[32m━━━━━━━━━━━━━━━━━━━━\u001b[0m\u001b[37m\u001b[0m \u001b[1m1104s\u001b[0m 2s/step - accuracy: 0.8774 - loss: 0.3211 - val_accuracy: 0.6845 - val_loss: 1.0725\n"
          ]
        }
      ]
    },
    {
      "cell_type": "code",
      "source": [
        "import numpy as np\n",
        "from PIL import Image\n",
        "\n",
        "# Weather-based suggestions\n",
        "weather_suggestions = {\n",
        "    'summer': ['Tshirts', 'Shorts', 'Sandals', 'Caps', 'Handbags'],\n",
        "    'winter': ['Sweatshirts', 'Coats', 'Jeans', 'Boots'],\n",
        "    'rainy': ['Coats', 'Sneakers', 'Handbags']\n",
        "}\n",
        "\n",
        "# Preprocess image for prediction\n",
        "def preprocess_image(image_path):\n",
        "    img = Image.open(image_path).convert('RGB')\n",
        "    img = img.resize((img_size, img_size))\n",
        "    img = np.array(img) / 255.0\n",
        "    return img.reshape(1, img_size, img_size, 3)\n",
        "\n",
        "# Predict and recommend based on weather\n",
        "def predict_and_recommend(image_path, weather):\n",
        "    image_array = preprocess_image(image_path)\n",
        "    prediction = model.predict(image_array)\n",
        "    predicted_idx = np.argmax(prediction)\n",
        "    predicted_class = class_labels[predicted_idx]\n",
        "\n",
        "    print(f\"Predicted Item: {predicted_class}\")\n",
        "\n",
        "    suitable_items = weather_suggestions.get(weather.lower(), [])\n",
        "    if predicted_class in suitable_items:\n",
        "        print(f\"This item is suitable for {weather}.\")\n",
        "        print(\"You can also go for:\", [i for i in suitable_items if i != predicted_class])\n",
        "    else:\n",
        "        print(f\"This item is NOT suitable for {weather}.\")\n",
        "        print(f\"Recommended for {weather}: {suitable_items}\")\n"
      ],
      "metadata": {
        "id": "eQp-0lGBUb9s"
      },
      "execution_count": 5,
      "outputs": []
    },
    {
      "cell_type": "code",
      "source": [
        "import os\n",
        "\n",
        "def list_images_by_category(base_dir, category_name):\n",
        "    \"\"\"\n",
        "    Lists all image filenames in a specific category folder under the base directory.\n",
        "\n",
        "    Args:\n",
        "        base_dir (str): Path to the train or validation directory.\n",
        "        category_name (str): Name of the category folder.\n",
        "\n",
        "    Returns:\n",
        "        list: Sorted list of image file names in the category, or an empty list if not found.\n",
        "    \"\"\"\n",
        "    category_path = os.path.join(base_dir, category_name)\n",
        "    if os.path.isdir(category_path):\n",
        "        return sorted(os.listdir(category_path))\n",
        "    else:\n",
        "        print(f\"Category '{category_name}' not found in {base_dir}.\")\n",
        "        return []\n",
        "\n",
        "# Example usage:\n",
        "train_dir = \"/content/fashion_data/filtered/train\"\n",
        "val_dir = \"/content/fashion_data/filtered/val\"\n",
        "\n",
        "# Replace 'T-shirt' with the actual category name you're interested in\n",
        "category = \"Handbags\"\n",
        "\n",
        "train_images = list_images_by_category(train_dir, category)\n",
        "val_images = list_images_by_category(val_dir, category)\n",
        "\n",
        "print(f\"Train images for '{category}':\", train_images)\n",
        "print(f\"Validation images for '{category}':\", val_images)\n"
      ],
      "metadata": {
        "colab": {
          "base_uri": "https://localhost:8080/"
        },
        "id": "qsr-QH581oJN",
        "outputId": "838a6c07-71f7-4ee9-d6db-aa50c18cdfd9"
      },
      "execution_count": 30,
      "outputs": [
        {
          "output_type": "stream",
          "name": "stdout",
          "text": [
            "Train images for 'Handbags': ['10196.jpg', '10199.jpg', '10200.jpg', '10203.jpg', '10205.jpg', '10207.jpg', '10208.jpg', '10209.jpg', '10213.jpg', '10214.jpg', '10215.jpg', '10221.jpg', '10222.jpg', '10224.jpg', '10226.jpg', '10227.jpg', '10231.jpg', '10242.jpg', '10243.jpg', '10244.jpg', '10245.jpg', '10247.jpg', '10249.jpg', '10252.jpg', '10253.jpg', '10254.jpg', '10320.jpg', '10321.jpg', '10322.jpg', '10680.jpg', '10724.jpg', '10725.jpg', '10728.jpg', '10729.jpg', '10732.jpg', '10733.jpg', '10734.jpg', '10735.jpg', '10736.jpg', '10737.jpg', '12348.jpg', '12493.jpg', '12733.jpg', '12734.jpg', '14135.jpg', '14790.jpg', '14792.jpg', '14794.jpg', '14796.jpg', '14797.jpg', '14799.jpg', '14803.jpg', '14804.jpg', '14805.jpg', '14807.jpg', '14808.jpg', '14809.jpg', '14810.jpg', '14811.jpg', '14813.jpg', '14814.jpg', '14817.jpg', '14878.jpg', '14879.jpg', '14880.jpg', '14881.jpg', '14883.jpg', '14885.jpg', '14888.jpg', '15216.jpg', '15297.jpg', '15437.jpg', '15451.jpg', '15665.jpg', '1597.jpg', '1599.jpg', '16758.jpg', '16762.jpg', '16763.jpg', '16764.jpg', '16766.jpg', '16767.jpg', '17121.jpg', '17122.jpg', '17123.jpg', '17124.jpg', '17126.jpg', '17127.jpg', '17128.jpg', '17130.jpg', '17132.jpg', '17134.jpg', '17135.jpg', '17136.jpg', '17137.jpg', '17138.jpg', '17139.jpg', '17142.jpg', '17631.jpg', '17632.jpg', '18029.jpg', '18031.jpg', '18032.jpg', '18034.jpg', '18035.jpg', '18037.jpg', '18038.jpg', '18039.jpg', '18042.jpg', '18043.jpg', '18163.jpg', '18794.jpg', '18797.jpg', '18798.jpg', '18799.jpg', '1939.jpg', '1941.jpg', '19945.jpg', '19946.jpg', '20388.jpg', '20389.jpg', '20394.jpg', '20397.jpg', '20410.jpg', '20419.jpg', '20449.jpg', '20452.jpg', '20458.jpg', '20479.jpg', '20489.jpg', '20490.jpg', '20491.jpg', '20492.jpg', '20493.jpg', '20498.jpg', '20501.jpg', '20504.jpg', '20505.jpg', '20506.jpg', '20507.jpg', '20508.jpg', '20516.jpg', '20517.jpg', '20518.jpg', '20521.jpg', '20522.jpg', '20523.jpg', '20524.jpg', '20527.jpg', '20566.jpg', '20568.jpg', '20571.jpg', '20599.jpg', '20600.jpg', '20601.jpg', '20603.jpg', '20610.jpg', '20615.jpg', '20616.jpg', '20619.jpg', '20620.jpg', '20621.jpg', '20623.jpg', '20629.jpg', '20852.jpg', '20854.jpg', '20926.jpg', '20927.jpg', '20929.jpg', '20930.jpg', '20961.jpg', '20962.jpg', '20965.jpg', '20966.jpg', '20968.jpg', '21487.jpg', '21493.jpg', '21497.jpg', '21499.jpg', '21500.jpg', '21507.jpg', '21508.jpg', '21510.jpg', '21520.jpg', '21523.jpg', '21527.jpg', '21528.jpg', '21533.jpg', '21534.jpg', '21536.jpg', '21538.jpg', '21539.jpg', '21540.jpg', '21545.jpg', '21546.jpg', '21547.jpg', '21548.jpg', '21551.jpg', '21553.jpg', '21555.jpg', '21556.jpg', '21558.jpg', '21559.jpg', '21560.jpg', '21752.jpg', '21935.jpg', '21936.jpg', '21937.jpg', '21939.jpg', '21940.jpg', '21941.jpg', '21942.jpg', '21943.jpg', '21944.jpg', '21946.jpg', '21947.jpg', '21950.jpg', '21951.jpg', '21953.jpg', '21954.jpg', '21955.jpg', '21958.jpg', '21959.jpg', '21960.jpg', '21962.jpg', '21963.jpg', '21966.jpg', '21967.jpg', '21968.jpg', '21969.jpg', '21971.jpg', '21973.jpg', '21974.jpg', '21977.jpg', '21978.jpg', '21986.jpg', '21988.jpg', '21989.jpg', '21990.jpg', '21991.jpg', '21994.jpg', '21998.jpg', '22000.jpg', '22002.jpg', '22004.jpg', '22006.jpg', '22007.jpg', '22008.jpg', '22009.jpg', '22012.jpg', '22013.jpg', '22015.jpg', '22561.jpg', '22563.jpg', '22564.jpg', '22565.jpg', '22655.jpg', '22660.jpg', '22661.jpg', '24623.jpg', '24651.jpg', '24652.jpg', '24653.jpg', '24654.jpg', '24676.jpg', '24736.jpg', '24737.jpg', '24738.jpg', '24740.jpg', '24742.jpg', '24766.jpg', '24794.jpg', '25144.jpg', '25148.jpg', '25152.jpg', '25155.jpg', '25156.jpg', '25158.jpg', '25160.jpg', '25163.jpg', '25164.jpg', '25165.jpg', '25167.jpg', '25168.jpg', '25172.jpg', '25173.jpg', '25175.jpg', '25176.jpg', '25177.jpg', '25178.jpg', '25180.jpg', '25182.jpg', '25184.jpg', '25185.jpg', '25187.jpg', '25188.jpg', '25189.jpg', '25190.jpg', '25191.jpg', '25192.jpg', '25194.jpg', '25195.jpg', '25196.jpg', '25197.jpg', '25201.jpg', '25202.jpg', '25203.jpg', '25205.jpg', '25209.jpg', '25210.jpg', '25211.jpg', '25212.jpg', '25213.jpg', '25214.jpg', '25219.jpg', '25220.jpg', '25221.jpg', '25222.jpg', '25223.jpg', '25226.jpg', '25227.jpg', '25228.jpg', '25231.jpg', '25234.jpg', '25236.jpg', '25237.jpg', '25238.jpg', '25239.jpg', '25240.jpg', '25241.jpg', '25244.jpg', '25246.jpg', '25247.jpg', '25250.jpg', '25253.jpg', '25254.jpg', '25259.jpg', '25262.jpg', '25265.jpg', '25266.jpg', '25270.jpg', '25271.jpg', '25274.jpg', '25275.jpg', '25277.jpg', '25280.jpg', '25281.jpg', '25282.jpg', '25283.jpg', '25284.jpg', '25285.jpg', '25287.jpg', '25289.jpg', '25291.jpg', '25292.jpg', '25293.jpg', '25294.jpg', '25297.jpg', '25298.jpg', '25299.jpg', '25398.jpg', '25399.jpg', '25798.jpg', '26182.jpg', '26432.jpg', '26433.jpg', '26434.jpg', '26435.jpg', '26436.jpg', '26437.jpg', '2644.jpg', '26440.jpg', '26441.jpg', '2645.jpg', '2647.jpg', '2650.jpg', '2655.jpg', '2656.jpg', '2657.jpg', '2658.jpg', '2659.jpg', '2662.jpg', '2664.jpg', '2666.jpg', '2667.jpg', '2668.jpg', '2669.jpg', '2671.jpg', '27037.jpg', '27046.jpg', '27053.jpg', '27054.jpg', '27057.jpg', '27062.jpg', '27067.jpg', '27665.jpg', '27666.jpg', '27669.jpg', '27670.jpg', '27671.jpg', '27673.jpg', '27674.jpg', '27675.jpg', '27677.jpg', '27679.jpg', '27680.jpg', '27682.jpg', '27685.jpg', '27688.jpg', '27689.jpg', '27691.jpg', '27692.jpg', '27702.jpg', '27704.jpg', '27710.jpg', '27711.jpg', '27716.jpg', '27717.jpg', '27718.jpg', '27724.jpg', '27726.jpg', '27732.jpg', '27733.jpg', '27738.jpg', '27739.jpg', '27740.jpg', '27741.jpg', '27745.jpg', '27746.jpg', '27747.jpg', '28444.jpg', '28445.jpg', '28446.jpg', '28447.jpg', '29067.jpg', '29069.jpg', '29193.jpg', '29725.jpg', '29726.jpg', '29727.jpg', '29728.jpg', '29730.jpg', '29732.jpg', '29734.jpg', '29736.jpg', '29740.jpg', '29742.jpg', '30184.jpg', '30204.jpg', '30205.jpg', '31912.jpg', '31922.jpg', '31923.jpg', '31924.jpg', '31925.jpg', '33369.jpg', '33370.jpg', '33394.jpg', '33399.jpg', '33404.jpg', '33406.jpg', '33413.jpg', '33419.jpg', '33422.jpg', '33423.jpg', '33424.jpg', '33428.jpg', '33429.jpg', '33431.jpg', '33433.jpg', '33434.jpg', '33438.jpg', '33441.jpg', '33442.jpg', '33453.jpg', '33454.jpg', '33455.jpg', '33632.jpg', '33633.jpg', '33635.jpg', '33716.jpg', '33737.jpg', '3381.jpg', '3382.jpg', '3389.jpg', '3391.jpg', '3393.jpg', '3395.jpg', '3396.jpg', '3397.jpg', '3401.jpg', '3402.jpg', '3406.jpg', '34550.jpg', '34552.jpg', '34555.jpg', '34558.jpg', '34561.jpg', '34562.jpg', '34729.jpg', '34760.jpg', '34763.jpg', '34764.jpg', '34766.jpg', '34768.jpg', '34769.jpg', '34770.jpg', '34771.jpg', '34772.jpg', '34774.jpg', '34775.jpg', '34777.jpg', '34778.jpg', '34779.jpg', '34780.jpg', '34782.jpg', '34864.jpg', '34867.jpg', '34870.jpg', '34878.jpg', '34880.jpg', '34881.jpg', '34882.jpg', '34883.jpg', '34887.jpg', '34888.jpg', '34890.jpg', '34892.jpg', '34899.jpg', '35142.jpg', '35143.jpg', '35147.jpg', '35148.jpg', '35149.jpg', '35828.jpg', '35899.jpg', '35901.jpg', '35902.jpg', '35903.jpg', '35911.jpg', '35912.jpg', '35913.jpg', '35915.jpg', '35917.jpg', '36051.jpg', '36052.jpg', '36506.jpg', '36508.jpg', '36509.jpg', '36520.jpg', '36521.jpg', '36522.jpg', '36523.jpg', '36662.jpg', '36664.jpg', '36665.jpg', '36670.jpg', '36672.jpg', '36677.jpg', '36991.jpg', '36992.jpg', '36993.jpg', '36994.jpg', '36996.jpg', '36998.jpg', '37002.jpg', '37003.jpg', '37004.jpg', '37005.jpg', '37006.jpg', '37067.jpg', '37068.jpg', '37069.jpg', '37071.jpg', '37073.jpg', '37075.jpg', '37077.jpg', '37078.jpg', '37080.jpg', '37082.jpg', '37083.jpg', '37089.jpg', '37090.jpg', '37405.jpg', '37406.jpg', '37407.jpg', '37408.jpg', '37410.jpg', '37411.jpg', '37413.jpg', '37415.jpg', '37419.jpg', '37421.jpg', '37422.jpg', '37423.jpg', '37428.jpg', '37429.jpg', '37430.jpg', '37431.jpg', '37432.jpg', '37433.jpg', '37434.jpg', '37437.jpg', '37854.jpg', '37857.jpg', '37858.jpg', '38133.jpg', '38143.jpg', '38315.jpg', '38316.jpg', '38424.jpg', '38434.jpg', '38437.jpg', '38439.jpg', '38448.jpg', '38449.jpg', '38452.jpg', '38455.jpg', '38456.jpg', '38457.jpg', '38464.jpg', '38465.jpg', '38471.jpg', '38472.jpg', '38473.jpg', '38474.jpg', '38691.jpg', '38692.jpg', '38752.jpg', '39549.jpg', '39914.jpg', '39917.jpg', '39936.jpg', '42832.jpg', '42833.jpg', '42835.jpg', '42838.jpg', '42840.jpg', '42841.jpg', '42843.jpg', '42851.jpg', '42852.jpg', '42861.jpg', '42865.jpg', '42868.jpg', '42870.jpg', '42873.jpg', '42874.jpg', '42880.jpg', '42881.jpg', '42883.jpg', '42886.jpg', '42890.jpg', '42935.jpg', '42938.jpg', '43227.jpg', '43271.jpg', '43275.jpg', '43281.jpg', '43288.jpg', '43289.jpg', '43572.jpg', '44249.jpg', '44251.jpg', '4613.jpg', '4615.jpg', '46965.jpg', '46967.jpg', '46971.jpg', '46973.jpg', '46975.jpg', '46977.jpg', '46978.jpg', '46979.jpg', '46981.jpg', '46982.jpg', '46984.jpg', '46986.jpg', '47126.jpg', '47127.jpg', '47129.jpg', '47132.jpg', '47133.jpg', '47135.jpg', '47136.jpg', '47137.jpg', '47140.jpg', '47141.jpg', '47143.jpg', '47146.jpg', '47147.jpg', '47296.jpg', '47306.jpg', '47316.jpg', '47317.jpg', '47326.jpg', '47327.jpg', '47329.jpg', '47335.jpg', '47336.jpg', '47349.jpg', '47352.jpg', '47353.jpg', '47354.jpg', '47359.jpg', '47366.jpg', '47367.jpg', '47368.jpg', '47372.jpg', '47374.jpg', '47375.jpg', '47379.jpg', '47380.jpg', '47386.jpg', '47389.jpg', '47390.jpg', '47392.jpg', '47393.jpg', '47394.jpg', '47395.jpg', '47396.jpg', '47397.jpg', '47416.jpg', '47417.jpg', '47421.jpg', '47429.jpg', '47430.jpg', '47433.jpg', '47732.jpg', '47734.jpg', '47857.jpg', '47868.jpg', '47880.jpg', '47881.jpg', '47888.jpg', '47896.jpg', '47911.jpg', '47916.jpg', '47917.jpg', '47928.jpg', '47930.jpg', '47945.jpg', '47946.jpg', '47955.jpg', '47956.jpg', '47957.jpg', '48130.jpg', '48131.jpg', '48174.jpg', '48178.jpg', '48180.jpg', '48181.jpg', '48182.jpg', '48183.jpg', '48185.jpg', '48186.jpg', '48189.jpg', '48190.jpg', '48191.jpg', '48192.jpg', '48328.jpg', '49065.jpg', '49066.jpg', '49068.jpg', '49069.jpg', '49520.jpg', '49521.jpg', '49526.jpg', '49527.jpg', '49540.jpg', '49541.jpg', '49544.jpg', '49545.jpg', '49552.jpg', '49553.jpg', '49554.jpg', '49555.jpg', '49557.jpg', '49562.jpg', '49563.jpg', '49564.jpg', '49568.jpg', '50179.jpg', '50180.jpg', '50183.jpg', '50185.jpg', '50186.jpg', '50188.jpg', '50236.jpg', '50238.jpg', '50239.jpg', '50240.jpg', '50243.jpg', '50426.jpg', '50430.jpg', '51904.jpg', '51905.jpg', '51906.jpg', '51912.jpg', '51913.jpg', '51914.jpg', '51916.jpg', '51919.jpg', '51920.jpg', '51921.jpg', '51922.jpg', '51924.jpg', '51926.jpg', '51927.jpg', '51929.jpg', '51931.jpg', '51936.jpg', '51938.jpg', '51941.jpg', '51942.jpg', '51956.jpg', '51958.jpg', '52626.jpg', '52632.jpg', '52635.jpg', '52637.jpg', '52638.jpg', '52639.jpg', '52642.jpg', '52643.jpg', '52647.jpg', '52648.jpg', '52649.jpg', '52651.jpg', '52652.jpg', '52653.jpg', '52654.jpg', '52655.jpg', '52656.jpg', '52657.jpg', '52661.jpg', '52756.jpg', '52758.jpg', '52768.jpg', '53058.jpg', '53059.jpg', '53060.jpg', '53061.jpg', '53062.jpg', '53063.jpg', '53065.jpg', '53066.jpg', '53067.jpg', '53068.jpg', '53069.jpg', '53070.jpg', '53369.jpg', '53370.jpg', '53648.jpg', '53649.jpg', '53655.jpg', '53659.jpg', '53661.jpg', '53665.jpg', '53666.jpg', '53667.jpg', '53668.jpg', '53669.jpg', '53670.jpg', '53672.jpg', '53673.jpg', '53674.jpg', '53675.jpg', '53676.jpg', '53677.jpg', '53680.jpg', '53681.jpg', '53682.jpg', '53683.jpg', '53685.jpg', '53688.jpg', '53689.jpg', '53692.jpg', '53702.jpg', '53706.jpg', '53708.jpg', '53715.jpg', '53719.jpg', '53720.jpg', '53884.jpg', '53886.jpg', '53888.jpg', '53889.jpg', '53890.jpg', '53892.jpg', '53893.jpg', '53894.jpg', '53895.jpg', '53902.jpg', '53905.jpg', '53907.jpg', '53911.jpg', '53918.jpg', '53927.jpg', '53928.jpg', '53934.jpg', '53935.jpg', '53944.jpg', '53946.jpg', '53964.jpg', '53979.jpg', '53985.jpg', '53990.jpg', '53991.jpg', '53994.jpg', '54000.jpg', '54002.jpg', '54003.jpg', '54008.jpg', '54009.jpg', '54016.jpg', '54018.jpg', '54032.jpg', '54035.jpg', '54036.jpg', '54041.jpg', '54178.jpg', '54182.jpg', '54185.jpg', '54229.jpg', '54380.jpg', '54382.jpg', '54384.jpg', '54385.jpg', '54391.jpg', '54394.jpg', '54406.jpg', '54475.jpg', '54476.jpg', '54488.jpg', '54490.jpg', '54492.jpg', '54493.jpg', '54495.jpg', '54496.jpg', '54498.jpg', '54499.jpg', '54500.jpg', '54501.jpg', '54502.jpg', '54503.jpg', '54504.jpg', '54505.jpg', '54506.jpg', '54507.jpg', '54508.jpg', '54509.jpg', '54545.jpg', '54546.jpg', '54804.jpg', '54805.jpg', '54808.jpg', '54813.jpg', '54828.jpg', '54831.jpg', '54836.jpg', '57225.jpg', '57229.jpg', '57235.jpg', '57237.jpg', '57238.jpg', '57243.jpg', '57246.jpg', '57253.jpg', '57255.jpg', '57256.jpg', '57258.jpg', '57259.jpg', '57262.jpg', '57263.jpg', '57266.jpg', '57836.jpg', '57845.jpg', '57847.jpg', '58156.jpg', '58157.jpg', '58175.jpg', '58176.jpg', '58177.jpg', '58179.jpg', '58180.jpg', '58181.jpg', '58182.jpg', '58183.jpg', '58185.jpg', '58186.jpg', '58187.jpg', '58188.jpg', '58190.jpg', '58194.jpg', '58195.jpg', '58259.jpg', '58260.jpg', '58264.jpg', '58268.jpg', '58272.jpg', '58273.jpg', '58275.jpg', '58276.jpg', '58279.jpg', '58280.jpg', '58281.jpg', '58282.jpg', '5852.jpg', '58524.jpg', '5853.jpg', '5856.jpg', '5876.jpg', '58925.jpg', '58926.jpg', '5894.jpg', '59428.jpg', '59430.jpg', '59432.jpg', '6561.jpg', '8235.jpg', '8237.jpg', '8243.jpg', '8244.jpg', '8251.jpg', '8253.jpg', '8254.jpg', '8259.jpg', '8260.jpg', '8310.jpg', '8313.jpg', '8518.jpg', '9004.jpg', '9005.jpg', '9007.jpg', '9008.jpg', '9009.jpg', '9093.jpg', '9094.jpg', '9571.jpg', '9577.jpg', '9578.jpg', '9585.jpg', '9906.jpg', '9907.jpg', '9908.jpg', '9914.jpg', '9915.jpg', '9917.jpg', '9919.jpg', '9921.jpg', '9922.jpg', '9923.jpg', '9925.jpg', '9926.jpg']\n",
            "Validation images for 'Handbags': ['10197.jpg', '10198.jpg', '10202.jpg', '10204.jpg', '10210.jpg', '10211.jpg', '10216.jpg', '10217.jpg', '10220.jpg', '10223.jpg', '10225.jpg', '10228.jpg', '10229.jpg', '10230.jpg', '10246.jpg', '10248.jpg', '10250.jpg', '10323.jpg', '10726.jpg', '10727.jpg', '10730.jpg', '10731.jpg', '10773.jpg', '13949.jpg', '14788.jpg', '14791.jpg', '14798.jpg', '14800.jpg', '14801.jpg', '14802.jpg', '14806.jpg', '14812.jpg', '14815.jpg', '14816.jpg', '14877.jpg', '14882.jpg', '14884.jpg', '14886.jpg', '14896.jpg', '15293.jpg', '15295.jpg', '15296.jpg', '15436.jpg', '15439.jpg', '15442.jpg', '15651.jpg', '15660.jpg', '1598.jpg', '16759.jpg', '16760.jpg', '16761.jpg', '16765.jpg', '16768.jpg', '17120.jpg', '17125.jpg', '17129.jpg', '17131.jpg', '17133.jpg', '17141.jpg', '18030.jpg', '18033.jpg', '18036.jpg', '18040.jpg', '18041.jpg', '18793.jpg', '19780.jpg', '20041.jpg', '20044.jpg', '20385.jpg', '20386.jpg', '20387.jpg', '20393.jpg', '20398.jpg', '20399.jpg', '20420.jpg', '20421.jpg', '20450.jpg', '20459.jpg', '20460.jpg', '20461.jpg', '20487.jpg', '20488.jpg', '20499.jpg', '20509.jpg', '20511.jpg', '20512.jpg', '20528.jpg', '20567.jpg', '20602.jpg', '20604.jpg', '20611.jpg', '20612.jpg', '20613.jpg', '20614.jpg', '20830.jpg', '20853.jpg', '20925.jpg', '20933.jpg', '20963.jpg', '20967.jpg', '21484.jpg', '21485.jpg', '21488.jpg', '21494.jpg', '21496.jpg', '21498.jpg', '21505.jpg', '21506.jpg', '21509.jpg', '21511.jpg', '21519.jpg', '21521.jpg', '21522.jpg', '21524.jpg', '21526.jpg', '21532.jpg', '21541.jpg', '21543.jpg', '21544.jpg', '21549.jpg', '21550.jpg', '21552.jpg', '21557.jpg', '21562.jpg', '21753.jpg', '21933.jpg', '21934.jpg', '21938.jpg', '21945.jpg', '21948.jpg', '21949.jpg', '21952.jpg', '21956.jpg', '21957.jpg', '21964.jpg', '21965.jpg', '21972.jpg', '21975.jpg', '21976.jpg', '21985.jpg', '21987.jpg', '21995.jpg', '21996.jpg', '21997.jpg', '21999.jpg', '22001.jpg', '22003.jpg', '22005.jpg', '22010.jpg', '22011.jpg', '22014.jpg', '22562.jpg', '2365.jpg', '24622.jpg', '24624.jpg', '24625.jpg', '24739.jpg', '24741.jpg', '24789.jpg', '25013.jpg', '25145.jpg', '25146.jpg', '25149.jpg', '25150.jpg', '25151.jpg', '25153.jpg', '25157.jpg', '25159.jpg', '25161.jpg', '25162.jpg', '25166.jpg', '25170.jpg', '25171.jpg', '25174.jpg', '25179.jpg', '25181.jpg', '25183.jpg', '25186.jpg', '25193.jpg', '25198.jpg', '25199.jpg', '25200.jpg', '25204.jpg', '25207.jpg', '25208.jpg', '25215.jpg', '25216.jpg', '25217.jpg', '25218.jpg', '25225.jpg', '25229.jpg', '25230.jpg', '25232.jpg', '25233.jpg', '25242.jpg', '25243.jpg', '25245.jpg', '25248.jpg', '25249.jpg', '25251.jpg', '25252.jpg', '25257.jpg', '25258.jpg', '25260.jpg', '25261.jpg', '25263.jpg', '25264.jpg', '25267.jpg', '25268.jpg', '25269.jpg', '25272.jpg', '25273.jpg', '25276.jpg', '25278.jpg', '25286.jpg', '25288.jpg', '25290.jpg', '25295.jpg', '25296.jpg', '25425.jpg', '25707.jpg', '25717.jpg', '25719.jpg', '25720.jpg', '25799.jpg', '26220.jpg', '26426.jpg', '26427.jpg', '26430.jpg', '26431.jpg', '26438.jpg', '26439.jpg', '2648.jpg', '2649.jpg', '2651.jpg', '2653.jpg', '2654.jpg', '2661.jpg', '2663.jpg', '2665.jpg', '2670.jpg', '2672.jpg', '2673.jpg', '27038.jpg', '27056.jpg', '27059.jpg', '27060.jpg', '27061.jpg', '27070.jpg', '27667.jpg', '27668.jpg', '27672.jpg', '27678.jpg', '27683.jpg', '27687.jpg', '27690.jpg', '27693.jpg', '27694.jpg', '27695.jpg', '27699.jpg', '27701.jpg', '27703.jpg', '27712.jpg', '27715.jpg', '27722.jpg', '27727.jpg', '27728.jpg', '27731.jpg', '27734.jpg', '27736.jpg', '27737.jpg', '27742.jpg', '27743.jpg', '27744.jpg', '27748.jpg', '28442.jpg', '28448.jpg', '28449.jpg', '29068.jpg', '29724.jpg', '29729.jpg', '29733.jpg', '29735.jpg', '29737.jpg', '29738.jpg', '29741.jpg', '29743.jpg', '30183.jpg', '31911.jpg', '31913.jpg', '33386.jpg', '33393.jpg', '33414.jpg', '33415.jpg', '33425.jpg', '33426.jpg', '33427.jpg', '33430.jpg', '33432.jpg', '33435.jpg', '33436.jpg', '33437.jpg', '33443.jpg', '33444.jpg', '33456.jpg', '33457.jpg', '33630.jpg', '33631.jpg', '33634.jpg', '33734.jpg', '3384.jpg', '3385.jpg', '3386.jpg', '3387.jpg', '3390.jpg', '3398.jpg', '3399.jpg', '3400.jpg', '3404.jpg', '3405.jpg', '34551.jpg', '34556.jpg', '34557.jpg', '34559.jpg', '34731.jpg', '34759.jpg', '34761.jpg', '34762.jpg', '34765.jpg', '34767.jpg', '34773.jpg', '34776.jpg', '34781.jpg', '34865.jpg', '34871.jpg', '34872.jpg', '34873.jpg', '34874.jpg', '34877.jpg', '34885.jpg', '34886.jpg', '34889.jpg', '34891.jpg', '34898.jpg', '35176.jpg', '35897.jpg', '35898.jpg', '35900.jpg', '35907.jpg', '35908.jpg', '35909.jpg', '35910.jpg', '35916.jpg', '35918.jpg', '36035.jpg', '36036.jpg', '36037.jpg', '36038.jpg', '36053.jpg', '36054.jpg', '36067.jpg', '36070.jpg', '36505.jpg', '36507.jpg', '36536.jpg', '36655.jpg', '36669.jpg', '36673.jpg', '36674.jpg', '36676.jpg', '36995.jpg', '37000.jpg', '37001.jpg', '37070.jpg', '37074.jpg', '37076.jpg', '37079.jpg', '37081.jpg', '37088.jpg', '37409.jpg', '37412.jpg', '37414.jpg', '37416.jpg', '37417.jpg', '37418.jpg', '37435.jpg', '37856.jpg', '37955.jpg', '38314.jpg', '38318.jpg', '38422.jpg', '38436.jpg', '38441.jpg', '38444.jpg', '38446.jpg', '38450.jpg', '38451.jpg', '38453.jpg', '38454.jpg', '38458.jpg', '38462.jpg', '38470.jpg', '38696.jpg', '38753.jpg', '38754.jpg', '38755.jpg', '38756.jpg', '42834.jpg', '42837.jpg', '42839.jpg', '42842.jpg', '42844.jpg', '42845.jpg', '42846.jpg', '42854.jpg', '42858.jpg', '42859.jpg', '42860.jpg', '42867.jpg', '42869.jpg', '42882.jpg', '42888.jpg', '42891.jpg', '42933.jpg', '42936.jpg', '43228.jpg', '43273.jpg', '43277.jpg', '43280.jpg', '43290.jpg', '43291.jpg', '43292.jpg', '43293.jpg', '43333.jpg', '43334.jpg', '43570.jpg', '43571.jpg', '44242.jpg', '44244.jpg', '44245.jpg', '44250.jpg', '44252.jpg', '44278.jpg', '4603.jpg', '4604.jpg', '4614.jpg', '46966.jpg', '46972.jpg', '46974.jpg', '46976.jpg', '46980.jpg', '46985.jpg', '46987.jpg', '46988.jpg', '47128.jpg', '47131.jpg', '47138.jpg', '47139.jpg', '47142.jpg', '47144.jpg', '47145.jpg', '47148.jpg', '47289.jpg', '47292.jpg', '47294.jpg', '47295.jpg', '47297.jpg', '47298.jpg', '47305.jpg', '47330.jpg', '47334.jpg', '47337.jpg', '47338.jpg', '47339.jpg', '47340.jpg', '47341.jpg', '47342.jpg', '47343.jpg', '47347.jpg', '47350.jpg', '47351.jpg', '47355.jpg', '47360.jpg', '47361.jpg', '47373.jpg', '47376.jpg', '47377.jpg', '47378.jpg', '47381.jpg', '47382.jpg', '47383.jpg', '47391.jpg', '47398.jpg', '47399.jpg', '47410.jpg', '47411.jpg', '47412.jpg', '47418.jpg', '47419.jpg', '47423.jpg', '47434.jpg', '47689.jpg', '47692.jpg', '47724.jpg', '47761.jpg', '47794.jpg', '47812.jpg', '47814.jpg', '47886.jpg', '47889.jpg', '47921.jpg', '47927.jpg', '48175.jpg', '48179.jpg', '48184.jpg', '48187.jpg', '48188.jpg', '48327.jpg', '48329.jpg', '48330.jpg', '48533.jpg', '49063.jpg', '49064.jpg', '49067.jpg', '49518.jpg', '49519.jpg', '49542.jpg', '49543.jpg', '49546.jpg', '49551.jpg', '49556.jpg', '49558.jpg', '49559.jpg', '49567.jpg', '50184.jpg', '50187.jpg', '50189.jpg', '50237.jpg', '50241.jpg', '50242.jpg', '50425.jpg', '50427.jpg', '50431.jpg', '51325.jpg', '51915.jpg', '51918.jpg', '51923.jpg', '51928.jpg', '51932.jpg', '51934.jpg', '51937.jpg', '51939.jpg', '51940.jpg', '51947.jpg', '51955.jpg', '52616.jpg', '52618.jpg', '52622.jpg', '52623.jpg', '52633.jpg', '52634.jpg', '52636.jpg', '52641.jpg', '52650.jpg', '52658.jpg', '52659.jpg', '52660.jpg', '52754.jpg', '52759.jpg', '52766.jpg', '52767.jpg', '5286.jpg', '53064.jpg', '53651.jpg', '53652.jpg', '53653.jpg', '53654.jpg', '53656.jpg', '53657.jpg', '53660.jpg', '53663.jpg', '53671.jpg', '53678.jpg', '53679.jpg', '53684.jpg', '53686.jpg', '53687.jpg', '53695.jpg', '53696.jpg', '53698.jpg', '53710.jpg', '53887.jpg', '53891.jpg', '53896.jpg', '53897.jpg', '53900.jpg', '53914.jpg', '53921.jpg', '53930.jpg', '53931.jpg', '53941.jpg', '53942.jpg', '53943.jpg', '53961.jpg', '53963.jpg', '53981.jpg', '53997.jpg', '53999.jpg', '54007.jpg', '54014.jpg', '54017.jpg', '54019.jpg', '54020.jpg', '54031.jpg', '54033.jpg', '54040.jpg', '54177.jpg', '54183.jpg', '54386.jpg', '54387.jpg', '54388.jpg', '54392.jpg', '54393.jpg', '54396.jpg', '54397.jpg', '54398.jpg', '54407.jpg', '54408.jpg', '54409.jpg', '54487.jpg', '54489.jpg', '54491.jpg', '54494.jpg', '54497.jpg', '54510.jpg', '54511.jpg', '54512.jpg', '54807.jpg', '54812.jpg', '54827.jpg', '54829.jpg', '54834.jpg', '5505.jpg', '57226.jpg', '57230.jpg', '57231.jpg', '57236.jpg', '57239.jpg', '57240.jpg', '57241.jpg', '57244.jpg', '57247.jpg', '57252.jpg', '57254.jpg', '57261.jpg', '57835.jpg', '57837.jpg', '57838.jpg', '57846.jpg', '58155.jpg', '58171.jpg', '58172.jpg', '58173.jpg', '58174.jpg', '58178.jpg', '58184.jpg', '58189.jpg', '58191.jpg', '58196.jpg', '58265.jpg', '58266.jpg', '58267.jpg', '58269.jpg', '58271.jpg', '58274.jpg', '58277.jpg', '58278.jpg', '5851.jpg', '5854.jpg', '5855.jpg', '5874.jpg', '58928.jpg', '58931.jpg', '58932.jpg', '7099.jpg', '8232.jpg', '8234.jpg', '8239.jpg', '8240.jpg', '8252.jpg', '8255.jpg', '8257.jpg', '8519.jpg', '8520.jpg', '9003.jpg', '9442.jpg', '9444.jpg', '9485.jpg', '9584.jpg', '9586.jpg', '9587.jpg', '9913.jpg', '9920.jpg', '9924.jpg']\n"
          ]
        }
      ]
    },
    {
      "cell_type": "code",
      "source": [
        "# Example test\n",
        "image_path = \"/content/fashion_data/filtered/val/Handbags/10197.jpg\"  # replace with real image path\n",
        "weather = \"winter\"\n",
        "\n",
        "predict_and_recommend(image_path, weather)\n"
      ],
      "metadata": {
        "colab": {
          "base_uri": "https://localhost:8080/"
        },
        "id": "zLW4IvDKUeXi",
        "outputId": "33decdde-05c3-4471-80c2-9df76182cc5c"
      },
      "execution_count": 31,
      "outputs": [
        {
          "output_type": "stream",
          "name": "stdout",
          "text": [
            "\u001b[1m1/1\u001b[0m \u001b[32m━━━━━━━━━━━━━━━━━━━━\u001b[0m\u001b[37m\u001b[0m \u001b[1m0s\u001b[0m 159ms/step\n",
            "Predicted Item: Handbags\n",
            "This item is NOT suitable for winter.\n",
            "Recommended for winter: ['Sweatshirts', 'Coats', 'Jeans', 'Boots']\n"
          ]
        }
      ]
    },
    {
      "cell_type": "code",
      "source": [
        "from google.colab import drive\n",
        "drive.mount('/content/drive')\n"
      ],
      "metadata": {
        "colab": {
          "base_uri": "https://localhost:8080/"
        },
        "id": "AczvjcY8UiR7",
        "outputId": "9d3bd179-0cc4-4ee8-d69c-8d6b53c4feeb"
      },
      "execution_count": 21,
      "outputs": [
        {
          "output_type": "stream",
          "name": "stdout",
          "text": [
            "Drive already mounted at /content/drive; to attempt to forcibly remount, call drive.mount(\"/content/drive\", force_remount=True).\n"
          ]
        }
      ]
    },
    {
      "cell_type": "code",
      "source": [
        "# Save entire model\n",
        "model.save(\"fashion_cnn_model.h5\")\n",
        "\n",
        "# Optionally save class labels (for Flask prediction use)\n",
        "import json\n",
        "with open(\"class_labels.json\", \"w\") as f:\n",
        "    json.dump(class_labels, f)\n"
      ],
      "metadata": {
        "colab": {
          "base_uri": "https://localhost:8080/"
        },
        "id": "wbnRa2TlUhr2",
        "outputId": "47f6a1a2-3ec5-4dd7-a88e-7b017d2e1154"
      },
      "execution_count": 32,
      "outputs": [
        {
          "output_type": "stream",
          "name": "stderr",
          "text": [
            "WARNING:absl:You are saving your model as an HDF5 file via `model.save()` or `keras.saving.save_model(model)`. This file format is considered legacy. We recommend using instead the native Keras format, e.g. `model.save('my_model.keras')` or `keras.saving.save_model(model, 'my_model.keras')`. \n"
          ]
        }
      ]
    },
    {
      "cell_type": "code",
      "source": [
        "import numpy as np\n",
        "from sklearn.metrics import confusion_matrix, classification_report\n",
        "import matplotlib.pyplot as plt\n",
        "import seaborn as sns\n",
        "\n",
        "# Predict on validation data\n",
        "val_gen.reset()\n",
        "preds = model.predict(val_gen)\n",
        "y_pred = np.argmax(preds, axis=1)\n",
        "y_true = val_gen.classes\n",
        "\n",
        "# Classification Report (F1, precision, recall)\n",
        "print(\"Classification Report:\")\n",
        "print(classification_report(y_true, y_pred, target_names=class_labels))\n",
        "\n",
        "# Confusion Matrix\n",
        "cm = confusion_matrix(y_true, y_pred)\n",
        "plt.figure(figsize=(10, 8))\n",
        "sns.heatmap(cm, annot=True, fmt=\"d\", cmap=\"Blues\", xticklabels=class_labels, yticklabels=class_labels)\n",
        "plt.title(\"Confusion Matrix\")\n",
        "plt.xlabel(\"Predicted\")\n",
        "plt.ylabel(\"True\")\n",
        "plt.show()\n"
      ],
      "metadata": {
        "colab": {
          "base_uri": "https://localhost:8080/",
          "height": 1000
        },
        "id": "rKr14FkaUkLZ",
        "outputId": "635379df-4c8e-4e7b-b962-e21692dea739"
      },
      "execution_count": 33,
      "outputs": [
        {
          "output_type": "stream",
          "name": "stdout",
          "text": [
            "\u001b[1m319/319\u001b[0m \u001b[32m━━━━━━━━━━━━━━━━━━━━\u001b[0m\u001b[37m\u001b[0m \u001b[1m130s\u001b[0m 407ms/step\n",
            "Classification Report:\n",
            "              precision    recall  f1-score   support\n",
            "\n",
            "Casual Shoes       0.71      0.93      0.80      1138\n",
            "    Handbags       0.97      0.95      0.96       704\n",
            "       Heels       0.97      0.85      0.91       530\n",
            "      Kurtas       0.95      0.91      0.93       738\n",
            "      Shirts       0.89      0.87      0.88      1287\n",
            "Sports Shoes       0.85      0.58      0.69       815\n",
            "  Sunglasses       1.00      1.00      1.00       430\n",
            "        Tops       0.60      0.74      0.66       705\n",
            "     Tshirts       0.91      0.87      0.89      2827\n",
            "     Watches       0.99      0.98      0.98      1017\n",
            "\n",
            "    accuracy                           0.87     10191\n",
            "   macro avg       0.88      0.87      0.87     10191\n",
            "weighted avg       0.88      0.87      0.87     10191\n",
            "\n"
          ]
        },
        {
          "output_type": "display_data",
          "data": {
            "text/plain": [
              "<Figure size 1000x800 with 2 Axes>"
            ],
            "image/png": "[encoded data removed]"
          },
          "metadata": {}
        }
      ]
    }
  ]
}